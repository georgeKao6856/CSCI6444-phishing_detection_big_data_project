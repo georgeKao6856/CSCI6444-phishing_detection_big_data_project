{
 "cells": [
  {
   "cell_type": "code",
   "execution_count": 1,
   "id": "e20da6ca-b3a0-41da-a2eb-38064cc624f2",
   "metadata": {
    "tags": []
   },
   "outputs": [],
   "source": [
    "from pyspark.sql import SparkSession\n",
    "from pyspark.sql.types import StructType, StructField, StringType, IntegerType\n",
    "from pyspark.sql.functions import length\n",
    "from pyspark.ml.feature import Tokenizer,StopWordsRemover,CountVectorizer, IDF,StringIndexer,VectorAssembler\n",
    "from pyspark.ml.linalg import Vector\n",
    "from pyspark.ml.classification import NaiveBayes\n",
    "from pyspark.ml import Pipeline\n",
    "from pyspark.sql.functions import col, sum\n",
    "from pyspark.sql.types import StructType, StructField, StringType\n",
    "from pyspark.ml.evaluation import MulticlassClassificationEvaluator"
   ]
  },
  {
   "cell_type": "code",
   "execution_count": 2,
   "id": "15a57c9f-b055-4493-8c14-8dd5ed2a0ded",
   "metadata": {
    "tags": []
   },
   "outputs": [
    {
     "name": "stderr",
     "output_type": "stream",
     "text": [
      "24/04/04 14:29:20 WARN Utils: Your hostname, Ozguns-MacBook-Pro.local resolves to a loopback address: 127.0.0.1; using 10.212.144.182 instead (on interface en0)\n",
      "24/04/04 14:29:20 WARN Utils: Set SPARK_LOCAL_IP if you need to bind to another address\n",
      "Setting default log level to \"WARN\".\n",
      "To adjust logging level use sc.setLogLevel(newLevel). For SparkR, use setLogLevel(newLevel).\n",
      "24/04/04 14:29:20 WARN NativeCodeLoader: Unable to load native-hadoop library for your platform... using builtin-java classes where applicable\n"
     ]
    }
   ],
   "source": [
    "spark = SparkSession.builder \\\n",
    "    .appName(\"Phishing1\") \\\n",
    "    .getOrCreate()"
   ]
  },
  {
   "cell_type": "code",
   "execution_count": 3,
   "id": "6432fcc8-7bd5-4bc3-a3ac-fca53722c6bd",
   "metadata": {
    "tags": []
   },
   "outputs": [],
   "source": [
    "schema = StructType([\n",
    "    StructField(\"_c0\", StringType(), True),\n",
    "    StructField(\"Email Text\", StringType(), True),\n",
    "    StructField(\"Email Type\", StringType(), True)\n",
    "])"
   ]
  },
  {
   "cell_type": "code",
   "execution_count": 4,
   "id": "a4ad9e09-acb6-4837-8e83-43f67bc8af31",
   "metadata": {
    "tags": []
   },
   "outputs": [],
   "source": [
    "df = spark.read.csv(\"Phishing_Email.csv\", schema=schema, header=True, multiLine=True, quote='\"', sep=\",\", escape='\"')"
   ]
  },
  {
   "cell_type": "code",
   "execution_count": 5,
   "id": "c764ae5e-2462-43b0-bd7f-260c928a39b7",
   "metadata": {
    "tags": []
   },
   "outputs": [
    {
     "name": "stderr",
     "output_type": "stream",
     "text": [
      "24/04/04 14:29:23 WARN CSVHeaderChecker: CSV header does not conform to the schema.\n",
      " Header: , Email Text, Email Type\n",
      " Schema: _c0, Email Text, Email Type\n",
      "Expected: _c0 but found: \n",
      "CSV file: file:///Users/ozgunozkan/Phishing_Email.csv\n"
     ]
    },
    {
     "name": "stdout",
     "output_type": "stream",
     "text": [
      "+---+--------------------+--------------+\n",
      "|_c0|          Email Text|    Email Type|\n",
      "+---+--------------------+--------------+\n",
      "|  0|re : 6 . 1100 , d...|    Safe Email|\n",
      "|  1|the other side of...|    Safe Email|\n",
      "|  2|re : equistar dea...|    Safe Email|\n",
      "|  3|\\nHello I am your...|Phishing Email|\n",
      "|  4|software at incre...|Phishing Email|\n",
      "|  5|global risk manag...|    Safe Email|\n",
      "|  6|On Sun, Aug 11, 2...|    Safe Email|\n",
      "|  7|entourage , stock...|Phishing Email|\n",
      "|  8|we owe you lots o...|Phishing Email|\n",
      "|  9|re : coastal deal...|    Safe Email|\n",
      "| 10|make her beg you ...|Phishing Email|\n",
      "| 11|URL: http://www.n...|    Safe Email|\n",
      "| 12|begin forwarded t...|    Safe Email|\n",
      "| 13|re : fyi - wellhe...|    Safe Email|\n",
      "| 14|rmmla / ads * * *...|    Safe Email|\n",
      "| 15|re : testing ir &...|    Safe Email|\n",
      "| 16|The academic disc...|    Safe Email|\n",
      "| 17|re : 3 . 402 quer...|    Safe Email|\n",
      "| 18|a resume john , t...|    Safe Email|\n",
      "| 19|EFFector       Vo...|    Safe Email|\n",
      "+---+--------------------+--------------+\n",
      "only showing top 20 rows\n",
      "\n"
     ]
    }
   ],
   "source": [
    "df.show()"
   ]
  },
  {
   "cell_type": "code",
   "execution_count": 6,
   "id": "c94b6d9c-0421-414c-9b2c-1d713c247d4b",
   "metadata": {},
   "outputs": [],
   "source": [
    "df = df.na.drop(subset=[\"Email Text\"])"
   ]
  },
  {
   "cell_type": "code",
   "execution_count": 7,
   "id": "c19b3d5a-d847-4126-a469-f4e0ebcf7bce",
   "metadata": {},
   "outputs": [],
   "source": [
    "df = df.withColumnRenamed(\"_c0\",\"emailID\")"
   ]
  },
  {
   "cell_type": "code",
   "execution_count": 8,
   "id": "95302cfd-0765-4166-a12d-370e616094a2",
   "metadata": {
    "tags": []
   },
   "outputs": [],
   "source": [
    "df = df.withColumn(\"length\", length(df['Email Text']))"
   ]
  },
  {
   "cell_type": "code",
   "execution_count": 9,
   "id": "ab4b80ca-cce9-4b90-b93e-a6c714f55b01",
   "metadata": {
    "tags": []
   },
   "outputs": [
    {
     "name": "stdout",
     "output_type": "stream",
     "text": [
      "+-------+--------------------+--------------+------+\n",
      "|emailID|          Email Text|    Email Type|length|\n",
      "+-------+--------------------+--------------+------+\n",
      "|      0|re : 6 . 1100 , d...|    Safe Email|  1030|\n",
      "|      1|the other side of...|    Safe Email|   479|\n",
      "|      2|re : equistar dea...|    Safe Email|  1245|\n",
      "|      3|\\nHello I am your...|Phishing Email|   688|\n",
      "|      4|software at incre...|Phishing Email|   441|\n",
      "|      5|global risk manag...|    Safe Email|  3295|\n",
      "|      6|On Sun, Aug 11, 2...|    Safe Email|   908|\n",
      "|      7|entourage , stock...|Phishing Email|  7653|\n",
      "|      8|we owe you lots o...|Phishing Email|   613|\n",
      "|      9|re : coastal deal...|    Safe Email|  1822|\n",
      "|     10|make her beg you ...|Phishing Email|  1474|\n",
      "|     11|URL: http://www.n...|    Safe Email|   149|\n",
      "|     12|begin forwarded t...|    Safe Email|  5900|\n",
      "|     13|re : fyi - wellhe...|    Safe Email|  1229|\n",
      "|     14|rmmla / ads * * *...|    Safe Email|  3017|\n",
      "|     15|re : testing ir &...|    Safe Email|   384|\n",
      "|     16|The academic disc...|    Safe Email|   667|\n",
      "|     17|re : 3 . 402 quer...|    Safe Email|  1105|\n",
      "|     18|a resume john , t...|    Safe Email|  1244|\n",
      "|     19|EFFector       Vo...|    Safe Email|  9937|\n",
      "+-------+--------------------+--------------+------+\n",
      "only showing top 20 rows\n",
      "\n"
     ]
    },
    {
     "name": "stderr",
     "output_type": "stream",
     "text": [
      "24/04/04 14:29:24 WARN CSVHeaderChecker: CSV header does not conform to the schema.\n",
      " Header: , Email Text, Email Type\n",
      " Schema: _c0, Email Text, Email Type\n",
      "Expected: _c0 but found: \n",
      "CSV file: file:///Users/ozgunozkan/Phishing_Email.csv\n"
     ]
    }
   ],
   "source": [
    "df.show()"
   ]
  },
  {
   "cell_type": "code",
   "execution_count": 10,
   "id": "40252186-ad59-488c-a64a-b0dd4aae9c9e",
   "metadata": {
    "tags": []
   },
   "outputs": [],
   "source": [
    "tokenizer = Tokenizer(inputCol=\"Email Text\", outputCol = \"token_email_text\")\n",
    "stop_word_remover = StopWordsRemover(inputCol=\"token_email_text\", outputCol=\"stop_tokens\")\n",
    "count_vec = CountVectorizer(inputCol=\"stop_tokens\",outputCol=\"count_vec\")\n",
    "idf = IDF(inputCol=\"count_vec\", outputCol=\"tf_idf\")\n",
    "safe_phishing_to_num = StringIndexer(inputCol=\"Email Type\", outputCol=\"label\")"
   ]
  },
  {
   "cell_type": "code",
   "execution_count": 11,
   "id": "ce4c6264-900d-4f5e-947e-e44d73cec974",
   "metadata": {
    "tags": []
   },
   "outputs": [],
   "source": [
    "cleaned_data = VectorAssembler(inputCols=['tf_idf', 'length'], outputCol=\"features\")"
   ]
  },
  {
   "cell_type": "code",
   "execution_count": 12,
   "id": "5d9b80e8-fde0-418c-a90c-58a877231296",
   "metadata": {
    "tags": []
   },
   "outputs": [],
   "source": [
    "nb = NaiveBayes()"
   ]
  },
  {
   "cell_type": "code",
   "execution_count": 13,
   "id": "cfd503e4-d225-4c38-8346-4bf15850d2e3",
   "metadata": {
    "tags": []
   },
   "outputs": [],
   "source": [
    "pipeline = Pipeline(stages=[\n",
    "    safe_phishing_to_num,\n",
    "    tokenizer,\n",
    "    stop_word_remover,\n",
    "    count_vec,\n",
    "    idf,\n",
    "    cleaned_data\n",
    "])"
   ]
  },
  {
   "cell_type": "code",
   "execution_count": 14,
   "id": "b77e6596-0ef1-4e90-93ef-f9dbeba2d1cf",
   "metadata": {
    "tags": []
   },
   "outputs": [
    {
     "name": "stderr",
     "output_type": "stream",
     "text": [
      "24/04/04 14:29:24 WARN CSVHeaderChecker: CSV header does not conform to the schema.\n",
      " Header: , Email Text, Email Type\n",
      " Schema: _c0, Email Text, Email Type\n",
      "Expected: _c0 but found: \n",
      "CSV file: file:///Users/ozgunozkan/Phishing_Email.csv\n",
      "24/04/04 14:29:25 WARN CSVHeaderChecker: CSV header does not conform to the schema.\n",
      " Header: , Email Text, Email Type\n",
      " Schema: _c0, Email Text, Email Type\n",
      "Expected: _c0 but found: \n",
      "CSV file: file:///Users/ozgunozkan/Phishing_Email.csv\n",
      "24/04/04 14:29:26 WARN CSVHeaderChecker: CSV header does not conform to the schema.\n",
      " Header: , Email Text, Email Type\n",
      " Schema: _c0, Email Text, Email Type\n",
      "Expected: _c0 but found: \n",
      "CSV file: file:///Users/ozgunozkan/Phishing_Email.csv\n",
      "                                                                                \r"
     ]
    }
   ],
   "source": [
    "cleaner = pipeline.fit(df.limit(100))"
   ]
  },
  {
   "cell_type": "code",
   "execution_count": 15,
   "id": "7ade1412-cbb0-4b40-a876-13cf8573fecf",
   "metadata": {},
   "outputs": [],
   "source": [
    "clean_df = cleaner.transform(df.limit(100))"
   ]
  },
  {
   "cell_type": "code",
   "execution_count": 16,
   "id": "ac97f354-1f85-4762-8ce4-cdf2490c7a5a",
   "metadata": {
    "tags": []
   },
   "outputs": [
    {
     "name": "stdout",
     "output_type": "stream",
     "text": [
      "+-----+--------------------+\n",
      "|label|            features|\n",
      "+-----+--------------------+\n",
      "|  0.0|(6012,[0,2,4,5,8,...|\n",
      "|  0.0|(6012,[0,2,7,13,2...|\n",
      "|  0.0|(6012,[0,2,3,4,5,...|\n",
      "|  1.0|(6012,[1,27,44,47...|\n",
      "|  1.0|(6012,[0,2,8,9,39...|\n",
      "|  0.0|(6012,[0,2,3,4,5,...|\n",
      "|  0.0|(6012,[1,26,27,31...|\n",
      "|  1.0|(6012,[0,2,3,4,5,...|\n",
      "|  1.0|(6012,[0,2,3,4,5,...|\n",
      "|  0.0|(6012,[0,2,3,4,5,...|\n",
      "|  1.0|(6012,[0,2,3,12,1...|\n",
      "|  0.0|(6012,[618,835,31...|\n",
      "|  0.0|(6012,[18,20,27,2...|\n",
      "|  0.0|(6012,[0,2,3,4,5,...|\n",
      "|  0.0|(6012,[0,2,3,4,5,...|\n",
      "|  0.0|(6012,[0,2,3,4,22...|\n",
      "|  0.0|(6012,[66,78,94,1...|\n",
      "|  0.0|(6012,[0,2,3,4,8,...|\n",
      "|  0.0|(6012,[0,2,4,13,1...|\n",
      "|  0.0|(6012,[1,7,14,20,...|\n",
      "+-----+--------------------+\n",
      "only showing top 20 rows\n",
      "\n"
     ]
    },
    {
     "name": "stderr",
     "output_type": "stream",
     "text": [
      "24/04/04 14:29:27 WARN CSVHeaderChecker: CSV header does not conform to the schema.\n",
      " Header: , Email Text, Email Type\n",
      " Schema: _c0, Email Text, Email Type\n",
      "Expected: _c0 but found: \n",
      "CSV file: file:///Users/ozgunozkan/Phishing_Email.csv\n"
     ]
    }
   ],
   "source": [
    "clean_df = clean_df.select(['label', 'features'])\n",
    "clean_df.show()"
   ]
  },
  {
   "cell_type": "code",
   "execution_count": 17,
   "id": "ba4060d2-3d21-464a-91d2-1e8ec1ccb191",
   "metadata": {
    "tags": []
   },
   "outputs": [],
   "source": [
    "(train,test) = clean_df.randomSplit([0.7, 0.3], seed=42)"
   ]
  },
  {
   "cell_type": "code",
   "execution_count": 18,
   "id": "a8cce47a-1b49-4c81-b22a-14099a511e96",
   "metadata": {
    "tags": []
   },
   "outputs": [
    {
     "name": "stderr",
     "output_type": "stream",
     "text": [
      "24/04/04 14:29:27 WARN CSVHeaderChecker: CSV header does not conform to the schema.\n",
      " Header: , Email Text, Email Type\n",
      " Schema: _c0, Email Text, Email Type\n",
      "Expected: _c0 but found: \n",
      "CSV file: file:///Users/ozgunozkan/Phishing_Email.csv\n",
      "24/04/04 14:29:27 WARN CSVHeaderChecker: CSV header does not conform to the schema.\n",
      " Header: , Email Text, Email Type\n",
      " Schema: _c0, Email Text, Email Type\n",
      "Expected: _c0 but found: \n",
      "CSV file: file:///Users/ozgunozkan/Phishing_Email.csv\n"
     ]
    }
   ],
   "source": [
    "pred = nb.fit(train)"
   ]
  },
  {
   "cell_type": "code",
   "execution_count": 19,
   "id": "e59b28e4-78b8-415d-8445-c878cac1c820",
   "metadata": {
    "tags": []
   },
   "outputs": [
    {
     "name": "stdout",
     "output_type": "stream",
     "text": [
      "+-----+--------------------+--------------------+--------------------+----------+\n",
      "|label|            features|       rawPrediction|         probability|prediction|\n",
      "+-----+--------------------+--------------------+--------------------+----------+\n",
      "|  0.0|(6012,[0,2,3,4,5,...|[-11026.073907973...|[1.0,5.2746578448...|       0.0|\n",
      "|  0.0|(6012,[0,2,3,4,5,...|[-11720.016937427...|[1.02505159741735...|       1.0|\n",
      "|  0.0|(6012,[0,2,3,4,5,...|[-21844.416692851...|[0.99999977772424...|       0.0|\n",
      "|  0.0|(6012,[0,2,3,4,5,...|[-4845.6314253368...|[1.0,1.7494267563...|       0.0|\n",
      "|  0.0|(6012,[0,2,3,4,5,...|[-4475.2039665818...|[1.0,2.2057099798...|       0.0|\n",
      "|  0.0|(6012,[0,2,3,4,5,...|[-13014.465771948...|           [1.0,0.0]|       0.0|\n",
      "|  0.0|(6012,[0,2,3,4,5,...|[-4986.2882172483...|[1.0,1.2150945776...|       0.0|\n",
      "|  0.0|(6012,[0,2,3,4,7,...|[-16230.279765482...|[1.0,1.4072285441...|       0.0|\n",
      "|  0.0|(6012,[0,2,3,4,8,...|[-9906.9287557877...|[7.98324586644927...|       1.0|\n",
      "|  0.0|(6012,[0,2,3,4,8,...|[-7358.9995595670...|[0.97888578893798...|       0.0|\n",
      "|  0.0|(6012,[0,2,3,4,8,...|[-6820.4095645452...|[1.0,3.0351212332...|       0.0|\n",
      "|  0.0|(6012,[0,2,3,8,9,...|[-1481.2146920104...|[1.0,6.2187067375...|       0.0|\n",
      "|  0.0|(6012,[0,2,3,8,9,...|[-1679.9431365619...|[5.66128120162444...|       1.0|\n",
      "|  0.0|(6012,[0,2,3,8,9,...|[-4560.3126713875...|[1.0,1.8698756417...|       0.0|\n",
      "|  0.0|(6012,[0,2,4,5,8,...|[-3950.3005413989...|[3.91009839842776...|       1.0|\n",
      "|  0.0|(6012,[0,2,4,13,1...|[-4565.1274796599...|[2.36904004428584...|       1.0|\n",
      "|  0.0|(6012,[0,2,5,14,1...|[-6114.1122419528...|[4.10336507439833...|       1.0|\n",
      "|  0.0|(6012,[0,2,14,47,...|[-683.83393361031...|[0.99995159486954...|       0.0|\n",
      "|  0.0|(6012,[0,3,12,27,...|[-1115.9631443621...|[8.66729155647768...|       1.0|\n",
      "|  0.0|(6012,[0,28,34,50...|[-817.96906648435...|[0.99999309972565...|       0.0|\n",
      "+-----+--------------------+--------------------+--------------------+----------+\n",
      "only showing top 20 rows\n",
      "\n"
     ]
    },
    {
     "name": "stderr",
     "output_type": "stream",
     "text": [
      "24/04/04 14:29:28 WARN CSVHeaderChecker: CSV header does not conform to the schema.\n",
      " Header: , Email Text, Email Type\n",
      " Schema: _c0, Email Text, Email Type\n",
      "Expected: _c0 but found: \n",
      "CSV file: file:///Users/ozgunozkan/Phishing_Email.csv\n",
      "24/04/04 14:29:28 WARN InstanceBuilder: Failed to load implementation from:dev.ludovic.netlib.blas.JNIBLAS\n"
     ]
    }
   ],
   "source": [
    "res = pred.transform(test)\n",
    "res.show()"
   ]
  },
  {
   "cell_type": "code",
   "execution_count": 20,
   "id": "a5d58cb0-b572-4348-ab87-4d7cd554e183",
   "metadata": {
    "tags": []
   },
   "outputs": [
    {
     "name": "stdout",
     "output_type": "stream",
     "text": [
      "Accuracy: 65.29376426769193\n"
     ]
    },
    {
     "name": "stderr",
     "output_type": "stream",
     "text": [
      "24/04/04 14:29:28 WARN CSVHeaderChecker: CSV header does not conform to the schema.\n",
      " Header: , Email Text, Email Type\n",
      " Schema: _c0, Email Text, Email Type\n",
      "Expected: _c0 but found: \n",
      "CSV file: file:///Users/ozgunozkan/Phishing_Email.csv\n"
     ]
    }
   ],
   "source": [
    "eval = MulticlassClassificationEvaluator()\n",
    "acc = eval.evaluate(res)\n",
    "print(f\"Accuracy: {acc*100}\")"
   ]
  }
 ],
 "metadata": {
  "kernelspec": {
   "display_name": "Python 3 (ipykernel)",
   "language": "python",
   "name": "python3"
  },
  "language_info": {
   "codemirror_mode": {
    "name": "ipython",
    "version": 3
   },
   "file_extension": ".py",
   "mimetype": "text/x-python",
   "name": "python",
   "nbconvert_exporter": "python",
   "pygments_lexer": "ipython3",
   "version": "3.11.5"
  }
 },
 "nbformat": 4,
 "nbformat_minor": 5
}
